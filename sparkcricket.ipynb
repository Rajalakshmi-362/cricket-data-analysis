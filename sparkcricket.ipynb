{
 "cells": [
  {
   "cell_type": "code",
   "execution_count": 19,
   "id": "174f854d-a4c4-4daa-90c9-8e59c053898b",
   "metadata": {},
   "outputs": [],
   "source": [
    "import findspark\n",
    "findspark.init()\n"
   ]
  },
  {
   "cell_type": "code",
   "execution_count": 20,
   "id": "be339e42-3558-46cf-acf9-5d94b9dbb944",
   "metadata": {},
   "outputs": [
    {
     "name": "stdout",
     "output_type": "stream",
     "text": [
      "3.5.5\n"
     ]
    }
   ],
   "source": [
    "from pyspark.sql import SparkSession\n",
    "\n",
    "\n",
    "# Print Spark version to check if it is working\n",
    "print(spark.version)\n"
   ]
  },
  {
   "cell_type": "code",
   "execution_count": 21,
   "id": "5d44aa82-3c37-4d60-ac21-8d8b60b206c5",
   "metadata": {},
   "outputs": [],
   "source": [
    "import pyspark \n",
    "from pyspark.sql import SparkSession"
   ]
  },
  {
   "cell_type": "code",
   "execution_count": 22,
   "id": "07dc5d6e-27dd-4d5a-a342-85a693b764e6",
   "metadata": {},
   "outputs": [
    {
     "name": "stdout",
     "output_type": "stream",
     "text": [
      "+-----+\n",
      "|hello|\n",
      "+-----+\n",
      "|spark|\n",
      "+-----+\n",
      "\n"
     ]
    }
   ],
   "source": [
    "spark=SparkSession.builder.getOrCreate()\n",
    "\n",
    "df=spark.sql(\"select 'spark' as hello\")\n",
    "\n",
    "df.show()\n"
   ]
  },
  {
   "cell_type": "code",
   "execution_count": 23,
   "id": "ed447fe2-764e-4a6a-98ff-3f79e1bb6f92",
   "metadata": {},
   "outputs": [
    {
     "name": "stdout",
     "output_type": "stream",
     "text": [
      "<pyspark.sql.session.SparkSession object at 0x000002114D90E7B0>\n"
     ]
    }
   ],
   "source": [
    "\n",
    "spark = SparkSession.builder.appName(\"Test\").getOrCreate()\n",
    "print(spark)\n"
   ]
  },
  {
   "cell_type": "code",
   "execution_count": 24,
   "id": "3b72c055-0a32-4c07-92c8-35fd318ec47c",
   "metadata": {},
   "outputs": [],
   "source": [
    "data = [(\"Alice\", 25), (\"Bob\", 30), (\"Charlie\", 35)]\n",
    "columns = [\"Name\", \"Age\"]\n"
   ]
  },
  {
   "cell_type": "code",
   "execution_count": 25,
   "id": "7793ce96-8556-47b2-90b9-4f02bef319ef",
   "metadata": {
    "scrolled": true
   },
   "outputs": [
    {
     "name": "stdout",
     "output_type": "stream",
     "text": [
      "Name: pyspark\n",
      "Version: 3.5.5\n",
      "Summary: Apache Spark Python API\n",
      "Home-page: https://github.com/apache/spark/tree/master/python\n",
      "Author: Spark Developers\n",
      "Author-email: dev@spark.apache.org\n",
      "License: http://www.apache.org/licenses/LICENSE-2.0\n",
      "Location: C:\\Users\\ELCOT\\AppData\\Local\\Programs\\Python\\Python313\\Lib\\site-packages\n",
      "Requires: py4j\n",
      "Required-by: \n"
     ]
    },
    {
     "name": "stderr",
     "output_type": "stream",
     "text": [
      "WARNING: Package(s) not found: check, to\n"
     ]
    }
   ],
   "source": [
    "!pip show pyspark to check\n"
   ]
  },
  {
   "cell_type": "code",
   "execution_count": 23,
   "id": "c8f73210-65b6-4300-937e-88476b9c36b0",
   "metadata": {},
   "outputs": [
    {
     "name": "stdout",
     "output_type": "stream",
     "text": [
      "Requirement already satisfied: pyspark in c:\\users\\elcot\\appdata\\local\\programs\\python\\python313\\lib\\site-packages (3.5.5)\n",
      "Requirement already satisfied: py4j==0.10.9.7 in c:\\users\\elcot\\appdata\\local\\programs\\python\\python313\\lib\\site-packages (from pyspark) (0.10.9.7)\n",
      "Note: you may need to restart the kernel to use updated packages.\n"
     ]
    },
    {
     "name": "stderr",
     "output_type": "stream",
     "text": [
      "\n",
      "[notice] A new release of pip is available: 24.3.1 -> 25.0.1\n",
      "[notice] To update, run: python.exe -m pip install --upgrade pip\n"
     ]
    }
   ],
   "source": [
    "pip install pyspark\n"
   ]
  },
  {
   "cell_type": "code",
   "execution_count": 26,
   "id": "56438ef0-e6d9-4ab3-a8d7-c33ddfcdabf0",
   "metadata": {},
   "outputs": [
    {
     "name": "stdout",
     "output_type": "stream",
     "text": [
      "PySpark Version: 3.5.5\n",
      "Py4J Version: 0.10.9.7\n"
     ]
    }
   ],
   "source": [
    "import pyspark\n",
    "print(\"PySpark Version:\", pyspark.__version__)\n",
    "\n",
    "import py4j\n",
    "print(\"Py4J Version:\", py4j.__version__)\n"
   ]
  },
  {
   "cell_type": "code",
   "execution_count": 27,
   "id": "7c18bee7-43a8-48c9-9de2-4ebd42e3b4eb",
   "metadata": {},
   "outputs": [
    {
     "name": "stdout",
     "output_type": "stream",
     "text": [
      "C:\\Users\\ELCOT\\AppData\\Local\\Programs\\Python\\Python313\\python.exe\n"
     ]
    }
   ],
   "source": [
    "import sys\n",
    "print(sys.executable)  # This should point to your Python installation\n",
    "\n"
   ]
  },
  {
   "cell_type": "code",
   "execution_count": 28,
   "id": "3ae50375-8f09-4a7b-a809-9b5c78d0abfa",
   "metadata": {},
   "outputs": [],
   "source": [
    "data = [(\"Alice\", 25), (\"Bob\", 30), (\"Charlie\", 35)]  # Ensure this is a list of tuples\n",
    "\n"
   ]
  },
  {
   "cell_type": "code",
   "execution_count": 29,
   "id": "9ac5810f-2177-4fa8-aea3-69f802388738",
   "metadata": {},
   "outputs": [],
   "source": [
    "import os\n",
    "os.environ[\"PYSPARK_PYTHON\"] = \"python3\"\n",
    "os.environ[\"PYSPARK_DRIVER_PYTHON\"] = \"python3\"\n"
   ]
  },
  {
   "cell_type": "markdown",
   "id": "63f4cef3-82d5-4f69-8904-36e18f61adba",
   "metadata": {},
   "source": [
    "\n",
    "                                              PLAYER ANALYSIS\n",
    "                             "
   ]
  },
  {
   "cell_type": "code",
   "execution_count": 30,
   "id": "5828ac94-338d-422b-897f-8f84e3476ead",
   "metadata": {},
   "outputs": [],
   "source": [
    "\n",
    "from pyspark.sql import SparkSession\n",
    "\n",
    "# Step 2: Create a SparkSession\n",
    "spark = SparkSession.builder \\\n",
    "    .appName(\"CricketAnalysis\") \\\n",
    "    .config(\"spark.driver.memory\", \"4g\") \\\n",
    "    .getOrCreate()\n",
    "\n",
    "\n",
    "\n",
    "\n",
    "\n",
    "\n",
    "\n"
   ]
  },
  {
   "cell_type": "code",
   "execution_count": 31,
   "id": "c88c5cca-6012-42c1-9432-a634f98e418f",
   "metadata": {},
   "outputs": [],
   "source": [
    "# Step 3: Load the CSV file into a Spark DataFrame\n",
    "file_path = \"t20_csv_files/dim_players_no_images.csv\"\n",
    "\n",
    "df = spark.read.csv(file_path, header=True, inferSchema=True)\n",
    "\n"
   ]
  },
  {
   "cell_type": "code",
   "execution_count": 32,
   "id": "02d2128d-e43c-4951-b732-9a62b1ea3c06",
   "metadata": {},
   "outputs": [
    {
     "name": "stdout",
     "output_type": "stream",
     "text": [
      "+--------------------+-------+--------------+--------------------+------------------+-----------+\n",
      "|                name|   team|  battingStyle|        bowlingStyle|       playingRole|description|\n",
      "+--------------------+-------+--------------+--------------------+------------------+-----------+\n",
      "|  Michael van Lingen|Namibia| Left hand Bat|     Left arm Medium|Bowling Allrounder|       NULL|\n",
      "|       Divan la Cock|Namibia|Right hand Bat|            Legbreak|    Opening Batter|       NULL|\n",
      "|Jan Nicol Loftie-...|Namibia| Left hand Bat|Right arm Medium,...|            Batter|       NULL|\n",
      "|       Stephan Baard|Namibia|Right hand Bat|Right arm Medium ...|            Batter|       NULL|\n",
      "|  Gerhard Erasmus(c)|Namibia|Right hand Bat|  Right arm Offbreak|        Allrounder|       NULL|\n",
      "+--------------------+-------+--------------+--------------------+------------------+-----------+\n",
      "only showing top 5 rows\n",
      "\n"
     ]
    }
   ],
   "source": [
    "# Step 4: Display the first few rows\n",
    "df.show(5)"
   ]
  },
  {
   "cell_type": "code",
   "execution_count": 33,
   "id": "54f85fa1-9e5d-44bd-9837-c94b22e7bfdd",
   "metadata": {},
   "outputs": [
    {
     "name": "stdout",
     "output_type": "stream",
     "text": [
      "root\n",
      " |-- name: string (nullable = true)\n",
      " |-- team: string (nullable = true)\n",
      " |-- battingStyle: string (nullable = true)\n",
      " |-- bowlingStyle: string (nullable = true)\n",
      " |-- playingRole: string (nullable = true)\n",
      " |-- description: string (nullable = true)\n",
      "\n"
     ]
    }
   ],
   "source": [
    "# Step 5: Print schema to understand data types\n",
    "df.printSchema()"
   ]
  },
  {
   "cell_type": "code",
   "execution_count": 34,
   "id": "f91c40d8-47d7-40f2-ab3e-9651e91c6b08",
   "metadata": {},
   "outputs": [
    {
     "name": "stdout",
     "output_type": "stream",
     "text": [
      "+-------+--------------------+-----------+--------------+--------------------+-------------------+--------------------+\n",
      "|summary|                name|       team|  battingStyle|        bowlingStyle|        playingRole|         description|\n",
      "+-------+--------------------+-----------+--------------+--------------------+-------------------+--------------------+\n",
      "|  count|                 226|        219|           219|                 199|                219|                 151|\n",
      "|   mean|                NULL|       NULL|          NULL|                NULL|               NULL|                NULL|\n",
      "| stddev|                NULL|       NULL|          NULL|                NULL|               NULL|                NULL|\n",
      "|    min|      Aaron Finch(c)|Afghanistan| Left hand Bat|       Left arm Fast|         Allrounder|\"\"\"I hit a lot of...|\n",
      "|    max|same coastal city...|   Zimbabwe|Right hand Bat|Slow Left arm Ort...|Wicketkeeper Batter|Zarai Taraqiati B...|\n",
      "+-------+--------------------+-----------+--------------+--------------------+-------------------+--------------------+\n",
      "\n"
     ]
    }
   ],
   "source": [
    "\n",
    "# Step 6: Get summary statistics\n",
    "df.describe().show()"
   ]
  },
  {
   "cell_type": "code",
   "execution_count": 35,
   "id": "21c3518b-74cd-45aa-9f84-25b484230241",
   "metadata": {},
   "outputs": [
    {
     "data": {
      "text/plain": [
       "226"
      ]
     },
     "execution_count": 35,
     "metadata": {},
     "output_type": "execute_result"
    }
   ],
   "source": [
    "df.count()\n"
   ]
  },
  {
   "cell_type": "code",
   "execution_count": 36,
   "id": "06eca179-060a-4376-9dc1-489c2971fc0f",
   "metadata": {},
   "outputs": [
    {
     "name": "stdout",
     "output_type": "stream",
     "text": [
      "+----+----+------------+------------+-----------+-----------+\n",
      "|name|team|battingStyle|bowlingStyle|playingRole|description|\n",
      "+----+----+------------+------------+-----------+-----------+\n",
      "|   0|   7|           7|          27|          7|         75|\n",
      "+----+----+------------+------------+-----------+-----------+\n",
      "\n"
     ]
    }
   ],
   "source": [
    "from pyspark.sql import functions as F\n",
    "\n",
    "df.select([F.count(F.when(F.col(c).isNull(), c)).alias(c) for c in df.columns]).show()\n"
   ]
  },
  {
   "cell_type": "markdown",
   "id": "4e28eb9c-7de0-4548-854a-443bb690435f",
   "metadata": {},
   "source": [
    "\n",
    "                                               Data cleaning\n"
   ]
  },
  {
   "cell_type": "code",
   "execution_count": 37,
   "id": "986fb0a9-c565-410d-8f19-3f5b7dac8763",
   "metadata": {},
   "outputs": [
    {
     "name": "stdout",
     "output_type": "stream",
     "text": [
      "+--------------------+---------+--------------+--------------------+-------------------+--------------------+\n",
      "|                name|     team|  battingStyle|        bowlingStyle|        playingRole|         description|\n",
      "+--------------------+---------+--------------+--------------------+-------------------+--------------------+\n",
      "|         David Wiese|  Namibia|Right hand Bat|Right arm Medium ...|         Allrounder|David Wiese joine...|\n",
      "|        Kusal Mendis|Sri Lanka|Right hand Bat|            Legbreak|Wicketkeeper Batter|Blessed with a co...|\n",
      "| Dhananjaya de Silva|Sri Lanka|Right hand Bat|  Right arm Offbreak|         Allrounder|A technically cor...|\n",
      "|Danushka Gunathilaka|Sri Lanka| Left hand Bat|  Right arm Offbreak|         Allrounder|A poised, attacki...|\n",
      "|   Bhanuka Rajapaksa|Sri Lanka| Left hand Bat|    Right arm Medium|   Top order Batter|An attacking left...|\n",
      "|    Dasun Shanaka(c)|Sri Lanka|Right hand Bat|    Right arm Medium|         Allrounder|An explosive midd...|\n",
      "|Wanindu Hasaranga...|Sri Lanka|Right hand Bat|            Legbreak|         Allrounder|A bruising lower-...|\n",
      "| Dushmantha Chameera|Sri Lanka|Right hand Bat|      Right arm Fast|             Bowler|Tall, slim and sl...|\n",
      "|     Bernard Scholtz|  Namibia|Right hand Bat|Slow Left arm Ort...|             Bowler|\"Bernard Scholtz'...|\n",
      "|        David Warner|Australia| Left hand Bat|            Legbreak|     Opening Batter|David Warner's ex...|\n",
      "|      Aaron Finch(c)|Australia|Right hand Bat|Slow Left arm Ort...|   Top order Batter|A solidly built, ...|\n",
      "|      Mitchell Marsh|Australia|Right hand Bat|    Right arm Medium|         Allrounder|Part of one of th...|\n",
      "|       Glenn Maxwell|Australia|Right hand Bat|  Right arm Offbreak| Batting Allrounder|One of the fastes...|\n",
      "|      Marcus Stoinis|Australia|Right hand Bat|    Right arm Medium| Batting Allrounder|A powerful, versa...|\n",
      "|      Josh Hazlewood|Australia| Left hand Bat|Right arm Fast me...|             Bowler|A tall and accura...|\n",
      "|         Pat Cummins|Australia|Right hand Bat|      Right arm Fast|             Bowler|Earmarked as a po...|\n",
      "|      Mitchell Starc|Australia| Left hand Bat|       Left arm Fast|             Bowler|First there was J...|\n",
      "|         Ashton Agar|Australia| Left hand Bat|Slow Left arm Ort...|             Bowler|Ashton Agar initi...|\n",
      "|     Binura Fernando|Sri Lanka|Right hand Bat|Left arm Medium fast|             Bowler|Known for his abi...|\n",
      "|       Lahiru Kumara|Sri Lanka| Left hand Bat|      Right arm Fast|             Bowler|A robust, right-a...|\n",
      "+--------------------+---------+--------------+--------------------+-------------------+--------------------+\n",
      "only showing top 20 rows\n",
      "\n"
     ]
    }
   ],
   "source": [
    "df_cleaned = df.dropna()\n",
    "df_cleaned.show()\n",
    "\n"
   ]
  },
  {
   "cell_type": "code",
   "execution_count": 38,
   "id": "c92ff529-4284-4fc1-bedd-a28e4bbec73b",
   "metadata": {},
   "outputs": [
    {
     "name": "stdout",
     "output_type": "stream",
     "text": [
      "+-----------------+------------+--------------+--------------------+-------------------+--------------------+\n",
      "|             name|        team|  battingStyle|        bowlingStyle|        playingRole|         description|\n",
      "+-----------------+------------+--------------+--------------------+-------------------+--------------------+\n",
      "|     David Warner|   Australia| Left hand Bat|            Legbreak|     Opening Batter|David Warner's ex...|\n",
      "|    Cameron Green|   Australia|Right hand Bat|Right arm Fast me...| Batting Allrounder|Contracted to Wes...|\n",
      "|       Mark Adair|     Ireland|Right hand Bat|Right arm Fast me...| Bowling Allrounder|Mark Adair is a t...|\n",
      "|Regis Chakabva(c)|    Zimbabwe|Right hand Bat|  Right arm Offbreak|Wicketkeeper Batter|A doughty wicketk...|\n",
      "|  Binura Fernando|   Sri Lanka|Right hand Bat|Left arm Medium fast|             Bowler|Known for his abi...|\n",
      "|    Anrich Nortje|South Africa|Right hand Bat|      Right arm Fast|             Bowler|\"Anrich Nortje is...|\n",
      "|       Alex Hales|     England|Right hand Bat|    Right arm Medium|     Opening Batter|Despite a central...|\n",
      "|    Paul Stirling|     Ireland|Right hand Bat|  Right arm Offbreak| Batting Allrounder|Paul Stirling has...|\n",
      "|    Rovman Powell| West Indies|Right hand Bat|Right arm Medium ...|Middle order Batter|A middle-order ba...|\n",
      "| Mohammad Nabi(c)| Afghanistan|Right hand Bat|  Right arm Offbreak|         Allrounder|Mohammad Nabi hai...|\n",
      "|   Regis Chakabva|    Zimbabwe|Right hand Bat|  Right arm Offbreak|Wicketkeeper Batter|A doughty wicketk...|\n",
      "|   Dinesh Karthik|       India|Right hand Bat|  Right arm Offbreak|Wicketkeeper Batter|Not many would fo...|\n",
      "|   Brandon Glover| Netherlands|Right hand Bat|      Right arm Fast|             Bowler|A Dutch-South Afr...|\n",
      "|     Kusal Mendis|   Sri Lanka|Right hand Bat|            Legbreak|Wicketkeeper Batter|Blessed with a co...|\n",
      "|Najibullah Zadran| Afghanistan| Left hand Bat|  Right arm Offbreak|Middle order Batter|Najibullah Zadran...|\n",
      "|Bhuvneshwar Kumar|       India|Right hand Bat|    Right arm Medium|             Bowler|At the time of hi...|\n",
      "| Dasun Shanaka(c)|   Sri Lanka|Right hand Bat|    Right arm Medium|         Allrounder|An explosive midd...|\n",
      "|  Shakib Al Hasan|  Bangladesh| Left hand Bat|Slow Left arm Ort...|         Allrounder|When the annals o...|\n",
      "|       Adam Zampa|   Australia|Right hand Bat|     Legbreak Googly|             Bowler|An energetic and ...|\n",
      "|   Tendai Chatara|    Zimbabwe|Right hand Bat|Right arm Fast me...|             Bowler|The first thing o...|\n",
      "+-----------------+------------+--------------+--------------------+-------------------+--------------------+\n",
      "only showing top 20 rows\n",
      "\n"
     ]
    }
   ],
   "source": [
    "df_cleaned = df_cleaned.dropDuplicates()\n",
    "df_cleaned.show()\n",
    "\n"
   ]
  },
  {
   "cell_type": "markdown",
   "id": "9140f467-7ea5-46b2-8b0c-197464cb6a65",
   "metadata": {},
   "source": [
    "\n",
    "                                                 FILTERING\n"
   ]
  },
  {
   "cell_type": "code",
   "execution_count": 39,
   "id": "c1e5fcf0-f136-4d17-b4cf-d8ce02cabf27",
   "metadata": {},
   "outputs": [
    {
     "name": "stdout",
     "output_type": "stream",
     "text": [
      "+------------------+-----------+--------------+--------------------+-----------+--------------------+\n",
      "|              name|       team|  battingStyle|        bowlingStyle|playingRole|         description|\n",
      "+------------------+-----------+--------------+--------------------+-----------+--------------------+\n",
      "|  Mohammad Nabi(c)|Afghanistan|Right hand Bat|  Right arm Offbreak| Allrounder|Mohammad Nabi hai...|\n",
      "|  Dasun Shanaka(c)|  Sri Lanka|Right hand Bat|    Right arm Medium| Allrounder|An explosive midd...|\n",
      "|   Shakib Al Hasan| Bangladesh| Left hand Bat|Slow Left arm Ort...| Allrounder|When the annals o...|\n",
      "|Shakib Al Hasan(c)| Bangladesh| Left hand Bat|Slow Left arm Ort...| Allrounder|When the annals o...|\n",
      "|      Deepak Hooda|      India|Right hand Bat|  Right arm Offbreak| Allrounder|\"An allrounder wh...|\n",
      "+------------------+-----------+--------------+--------------------+-----------+--------------------+\n",
      "only showing top 5 rows\n",
      "\n"
     ]
    }
   ],
   "source": [
    "from pyspark.sql.functions import col\n",
    "\n",
    "experienced_players = df_cleaned.filter(col(\"playingRole\")== \"Allrounder\")\n",
    "experienced_players.show(5)\n",
    "\n"
   ]
  },
  {
   "cell_type": "code",
   "execution_count": null,
   "id": "732eb08c-7099-4916-9ba0-ef91def6ad53",
   "metadata": {},
   "outputs": [],
   "source": [
    "\n",
    "                                            MATCH SUMMARY\n"
   ]
  },
  {
   "cell_type": "code",
   "execution_count": 40,
   "id": "4ca7c05f-2808-4fa7-b1d7-0a5d6de00611",
   "metadata": {},
   "outputs": [],
   "source": [
    "\n",
    "# Step 1: Start Spark Session\n",
    "from pyspark.sql import SparkSession\n",
    "\n",
    "spark = SparkSession.builder \\\n",
    "    .appName(\"Match Summary Analysis\") \\\n",
    "    .getOrCreate()\n"
   ]
  },
  {
   "cell_type": "code",
   "execution_count": 41,
   "id": "b5a0bd73-8294-4ba7-92e1-ff3950fc7708",
   "metadata": {},
   "outputs": [
    {
     "name": "stdout",
     "output_type": "stream",
     "text": [
      "+-----------+-----------+-----------+---------+-------+------------+-----------+\n",
      "|      team1|      team2|     winner|   margin| ground|   matchDate|   match_id|\n",
      "+-----------+-----------+-----------+---------+-------+------------+-----------+\n",
      "|    Namibia|  Sri Lanka|    Namibia|  55 runs|Geelong|Oct 16, 2022|T20I # 1823|\n",
      "|Netherlands|     U.A.E.|Netherlands|3 wickets|Geelong|Oct 16, 2022|T20I # 1825|\n",
      "|   Scotland|West Indies|   Scotland|  42 runs| Hobart|Oct 17, 2022|T20I # 1826|\n",
      "|    Ireland|   Zimbabwe|   Zimbabwe|  31 runs| Hobart|Oct 17, 2022|T20I # 1828|\n",
      "|    Namibia|Netherlands|Netherlands|5 wickets|Geelong|Oct 18, 2022|T20I # 1830|\n",
      "+-----------+-----------+-----------+---------+-------+------------+-----------+\n",
      "only showing top 5 rows\n",
      "\n"
     ]
    }
   ],
   "source": [
    "# Step 2: Load the CSV into DataFrame\n",
    "file_path = \"\"t20_csv_files/fact_bating_summary.csvv\"\n",
    "\n",
    "df = spark.read.option(\"header\", True).csv(file_path)\n",
    "df.show(5)\n"
   ]
  },
  {
   "cell_type": "code",
   "execution_count": 42,
   "id": "b37d301a-7db4-4b0c-b6c0-be3228165a6c",
   "metadata": {},
   "outputs": [
    {
     "name": "stdout",
     "output_type": "stream",
     "text": [
      "root\n",
      " |-- team1: string (nullable = true)\n",
      " |-- team2: string (nullable = true)\n",
      " |-- winner: string (nullable = true)\n",
      " |-- margin: string (nullable = true)\n",
      " |-- ground: string (nullable = true)\n",
      " |-- matchDate: string (nullable = true)\n",
      " |-- match_id: string (nullable = true)\n",
      "\n",
      "+-----------+-----------+-----------+---------+-------+------------+-----------+\n",
      "|      team1|      team2|     winner|   margin| ground|   matchDate|   match_id|\n",
      "+-----------+-----------+-----------+---------+-------+------------+-----------+\n",
      "|    Namibia|  Sri Lanka|    Namibia|  55 runs|Geelong|Oct 16, 2022|T20I # 1823|\n",
      "|Netherlands|     U.A.E.|Netherlands|3 wickets|Geelong|Oct 16, 2022|T20I # 1825|\n",
      "|   Scotland|West Indies|   Scotland|  42 runs| Hobart|Oct 17, 2022|T20I # 1826|\n",
      "|    Ireland|   Zimbabwe|   Zimbabwe|  31 runs| Hobart|Oct 17, 2022|T20I # 1828|\n",
      "|    Namibia|Netherlands|Netherlands|5 wickets|Geelong|Oct 18, 2022|T20I # 1830|\n",
      "+-----------+-----------+-----------+---------+-------+------------+-----------+\n",
      "only showing top 5 rows\n",
      "\n"
     ]
    }
   ],
   "source": [
    "# Step 3: Inspect schema and clean\n",
    "df.printSchema()\n",
    "df_cleaned = df.dropna()  # Remove rows with null values\n",
    "df_cleaned.show(5)\n"
   ]
  },
  {
   "cell_type": "code",
   "execution_count": 43,
   "id": "35199d8b-725c-47ff-8e66-0c22f1ed6def",
   "metadata": {},
   "outputs": [
    {
     "name": "stdout",
     "output_type": "stream",
     "text": [
      "+-----------+------------+------------+----------+---------+------------+-----------+\n",
      "|      team1|       team2|      winner|    margin|   ground|   matchDate|   match_id|\n",
      "+-----------+------------+------------+----------+---------+------------+-----------+\n",
      "|    Ireland| West Indies|     Ireland| 9 wickets|   Hobart|Oct 21, 2022|T20I # 1837|\n",
      "|    Namibia|   Sri Lanka|     Namibia|   55 runs|  Geelong|Oct 16, 2022|T20I # 1823|\n",
      "|New Zealand|   Sri Lanka| New Zealand|   65 runs|   Sydney|Oct 29, 2022|T20I # 1850|\n",
      "|Netherlands|    Zimbabwe| Netherlands| 5 wickets| Adelaide| Nov 2, 2022|T20I # 1859|\n",
      "|   Scotland| West Indies|    Scotland|   42 runs|   Hobart|Oct 17, 2022|T20I # 1826|\n",
      "| Bangladesh|    Zimbabwe|  Bangladesh|    3 runs| Brisbane|Oct 30, 2022|T20I # 1851|\n",
      "|    England|     Ireland|     Ireland|    5 runs|Melbourne|Oct 26, 2022|T20I # 1846|\n",
      "|   Pakistan|South Africa|    Pakistan|   33 runs|   Sydney| Nov 3, 2022|T20I # 1861|\n",
      "|    England|       India|     England|10 wickets| Adelaide|Nov 10, 2022|T20I # 1878|\n",
      "|West Indies|    Zimbabwe| West Indies|   31 runs|   Hobart|Oct 19, 2022|T20I # 1834|\n",
      "|  Australia|   Sri Lanka|   Australia| 7 wickets|    Perth|Oct 25, 2022|T20I # 1845|\n",
      "|      India|South Africa|South Africa| 5 wickets|    Perth|Oct 30, 2022|T20I # 1853|\n",
      "|Afghanistan|     England|     England| 5 wickets|    Perth|Oct 22, 2022|T20I # 1840|\n",
      "|  Australia| Afghanistan|   Australia|    4 runs| Adelaide| Nov 4, 2022|T20I # 1864|\n",
      "|  Sri Lanka|      U.A.E.|   Sri Lanka|   79 runs|  Geelong|Oct 18, 2022|T20I # 1832|\n",
      "|  Australia|     Ireland|   Australia|   42 runs| Brisbane|Oct 31, 2022|T20I # 1855|\n",
      "|    Namibia| Netherlands| Netherlands| 5 wickets|  Geelong|Oct 18, 2022|T20I # 1830|\n",
      "| Bangladesh|       India|       India|    5 runs| Adelaide| Nov 2, 2022|T20I # 1860|\n",
      "|Afghanistan|   Sri Lanka|   Sri Lanka| 6 wickets| Brisbane| Nov 1, 2022|T20I # 1856|\n",
      "|    England| New Zealand|     England|   20 runs| Brisbane| Nov 1, 2022|T20I # 1858|\n",
      "+-----------+------------+------------+----------+---------+------------+-----------+\n",
      "only showing top 20 rows\n",
      "\n"
     ]
    }
   ],
   "source": [
    "df_cleaned = df_cleaned.dropDuplicates()\n",
    "df_cleaned.show()\n"
   ]
  },
  {
   "cell_type": "code",
   "execution_count": null,
   "id": "b46099ce-0f1c-4374-b173-5828a13a4d34",
   "metadata": {},
   "outputs": [],
   "source": [
    "\n",
    "\n",
    "                                         FILTER\n"
   ]
  },
  {
   "cell_type": "code",
   "execution_count": 44,
   "id": "c6358cef-fae4-4c5b-aa54-e953186d71d2",
   "metadata": {},
   "outputs": [
    {
     "name": "stdout",
     "output_type": "stream",
     "text": [
      "+-------+--------+-------+---------+---------+------------+-----------+\n",
      "|  team1|   team2| winner|   margin|   ground|   matchDate|   match_id|\n",
      "+-------+--------+-------+---------+---------+------------+-----------+\n",
      "|England| Ireland|Ireland|   5 runs|Melbourne|Oct 26, 2022|T20I # 1846|\n",
      "|  India|Pakistan|  India|4 wickets|Melbourne|Oct 23, 2022|T20I # 1842|\n",
      "|England|Pakistan|England|5 wickets|Melbourne|Nov 13, 2022|T20I # 1879|\n",
      "|  India|Zimbabwe|  India|  71 runs|Melbourne| Nov 6, 2022|T20I # 1873|\n",
      "+-------+--------+-------+---------+---------+------------+-----------+\n",
      "\n"
     ]
    }
   ],
   "source": [
    "# Step 4: Filter matches \n",
    "from pyspark.sql.functions import col\n",
    "\n",
    "melbourne_matches = df_cleaned.filter(col(\"ground\") == \"Melbourne\")\n",
    "melbourne_matches.show(5)\n"
   ]
  },
  {
   "cell_type": "code",
   "execution_count": 45,
   "id": "66fc6785-78c3-4370-ba2f-30db54855bd9",
   "metadata": {},
   "outputs": [
    {
     "name": "stdout",
     "output_type": "stream",
     "text": [
      "+------------+-----+\n",
      "|      winner|count|\n",
      "+------------+-----+\n",
      "|     England|    5|\n",
      "|   Sri Lanka|    4|\n",
      "|       India|    4|\n",
      "|    Pakistan|    4|\n",
      "| Netherlands|    4|\n",
      "|     Ireland|    3|\n",
      "|    Zimbabwe|    3|\n",
      "| New Zealand|    3|\n",
      "|   Australia|    3|\n",
      "|  Bangladesh|    2|\n",
      "|South Africa|    2|\n",
      "| West Indies|    1|\n",
      "|      U.A.E.|    1|\n",
      "|     Namibia|    1|\n",
      "|    Scotland|    1|\n",
      "+------------+-----+\n",
      "\n"
     ]
    }
   ],
   "source": [
    "# Step 5: Group by 'winner' and count number of wins\n",
    "winner_counts = df_cleaned.groupBy(\"winner\").count().orderBy(\"count\", ascending=False)\n",
    "winner_counts.show()\n"
   ]
  },
  {
   "cell_type": "code",
   "execution_count": 49,
   "id": "f75c71fe-39e1-44fa-a427-3d6d51699e3e",
   "metadata": {},
   "outputs": [
    {
     "name": "stderr",
     "output_type": "stream",
     "text": [
      "\n",
      "[notice] A new release of pip is available: 24.3.1 -> 25.0.1\n",
      "[notice] To update, run: python.exe -m pip install --upgrade pip\n"
     ]
    },
    {
     "name": "stdout",
     "output_type": "stream",
     "text": [
      "Requirement already satisfied: pandas in c:\\users\\elcot\\appdata\\local\\programs\\python\\python313\\lib\\site-packages (2.2.3)\n",
      "Requirement already satisfied: numpy>=1.26.0 in c:\\users\\elcot\\appdata\\local\\programs\\python\\python313\\lib\\site-packages (from pandas) (2.2.5)\n",
      "Requirement already satisfied: python-dateutil>=2.8.2 in c:\\users\\elcot\\appdata\\local\\programs\\python\\python313\\lib\\site-packages (from pandas) (2.9.0.post0)\n",
      "Requirement already satisfied: pytz>=2020.1 in c:\\users\\elcot\\appdata\\local\\programs\\python\\python313\\lib\\site-packages (from pandas) (2025.2)\n",
      "Requirement already satisfied: tzdata>=2022.7 in c:\\users\\elcot\\appdata\\local\\programs\\python\\python313\\lib\\site-packages (from pandas) (2025.2)\n",
      "Requirement already satisfied: six>=1.5 in c:\\users\\elcot\\appdata\\local\\programs\\python\\python313\\lib\\site-packages (from python-dateutil>=2.8.2->pandas) (1.17.0)\n"
     ]
    },
    {
     "data": {
      "image/png": "[encoded data removed]",
      "text/plain": [
       "<Figure size 1000x600 with 1 Axes>"
      ]
     },
     "metadata": {},
     "output_type": "display_data"
    }
   ],
   "source": [
    "!pip install pandas\n",
    "\n",
    "import matplotlib.pyplot as plt\n",
    "\n",
    "plt.figure(figsize=(10, 6))\n",
    "plt.bar(winner_counts_pd['winner'], winner_counts_pd['count'], color='skyblue')\n",
    "plt.xticks(rotation=90)\n",
    "plt.title(\"Match Wins by Team\")\n",
    "plt.xlabel(\"Team\")\n",
    "plt.ylabel(\"Number of Wins\")\n",
    "plt.tight_layout()\n",
    "plt.show()\n",
    "\n",
    "\n",
    "\n"
   ]
  },
  {
   "cell_type": "code",
   "execution_count": null,
   "id": "8d2fd06b-19b3-4c7d-afc4-787c0b0ad506",
   "metadata": {},
   "outputs": [],
   "source": [
    "\n",
    "                                                    BATTING SUMMARY\n"
   ]
  },
  {
   "cell_type": "code",
   "execution_count": 52,
   "id": "7af23545-911e-4068-8af5-036d2e94ac16",
   "metadata": {},
   "outputs": [],
   "source": [
    "from pyspark.sql import SparkSession\n",
    "from pyspark.sql.functions import col, sum, avg, desc\n",
    "\n",
    "# Step 1: Initialize Spark session\n",
    "spark = SparkSession.builder \\\n",
    "    .appName(\"FactBattingSummaryAnalysis\") \\\n",
    "    .getOrCreate()"
   ]
  },
  {
   "cell_type": "code",
   "execution_count": 54,
   "id": "ded3569c-92a5-48d1-bba9-598c398b27f7",
   "metadata": {},
   "outputs": [
    {
     "name": "stdout",
     "output_type": "stream",
     "text": [
      "root\n",
      " |-- match: string (nullable = true)\n",
      " |-- teamInnings: string (nullable = true)\n",
      " |-- battingPos: integer (nullable = true)\n",
      " |-- batsmanName: string (nullable = true)\n",
      " |-- dismissal: string (nullable = true)\n",
      " |-- runs: integer (nullable = true)\n",
      " |-- balls: integer (nullable = true)\n",
      " |-- 4s: integer (nullable = true)\n",
      " |-- 6s: integer (nullable = true)\n",
      " |-- SR: string (nullable = true)\n",
      " |-- out/not_out: string (nullable = true)\n",
      " |-- match_id: string (nullable = true)\n",
      "\n",
      "+--------------------+-----------+----------+----------------------+-------------------------------+----+-----+---+---+------+-----------+-----------+\n",
      "|match               |teamInnings|battingPos|batsmanName           |dismissal                      |runs|balls|4s |6s |SR    |out/not_out|match_id   |\n",
      "+--------------------+-----------+----------+----------------------+-------------------------------+----+-----+---+---+------+-----------+-----------+\n",
      "|Namibia Vs Sri Lanka|Namibia    |1         |Michael van Lingen    |c Pramod Madushan b Chameera   |3   |6    |0  |0  |50.00 |out        |T20I # 1823|\n",
      "|Namibia Vs Sri Lanka|Namibia    |2         |Divan la Cock         |c Shanaka b Pramod Madushan    |9   |9    |1  |0  |100.00|out        |T20I # 1823|\n",
      "|Namibia Vs Sri Lanka|Namibia    |3         |Jan Nicol Loftie-Eaton|c â€ Mendis b Karunaratne      |20  |12   |1  |2  |166.66|out        |T20I # 1823|\n",
      "|Namibia Vs Sri Lanka|Namibia    |4         |Stephan Baard         |c DM de Silva b Pramod Madushan|26  |24   |2  |0  |108.33|out        |T20I # 1823|\n",
      "|Namibia Vs Sri Lanka|Namibia    |5         |Gerhard Erasmus(c)    |c Gunathilaka b PWH de Silva   |20  |24   |0  |0  |83.33 |out        |T20I # 1823|\n",
      "+--------------------+-----------+----------+----------------------+-------------------------------+----+-----+---+---+------+-----------+-----------+\n",
      "only showing top 5 rows\n",
      "\n"
     ]
    }
   ],
   "source": [
    "# Step 2: Load the CSV\n",
    "file_path = \"t20_csv_files/fact_bating_summary.csv\"  # Make sure this file is in the same directory as your notebook\n",
    "df = spark.read.option(\"header\", True).option(\"inferSchema\", True).csv(file_path)\n",
    "df.printSchema()\n",
    "df.show(5, truncate=False)\n"
   ]
  },
  {
   "cell_type": "code",
   "execution_count": 56,
   "id": "0df2ffc4-a5f5-4303-a413-ff3f9cea18a6",
   "metadata": {},
   "outputs": [
    {
     "name": "stdout",
     "output_type": "stream",
     "text": [
      "+----------------+----------+------------------+\n",
      "|     batsmanName|total_runs|      average_runs|\n",
      "+----------------+----------+------------------+\n",
      "|     Virat Kohli|       296|49.333333333333336|\n",
      "|      Max O'Dowd|       242|             30.25|\n",
      "|Suryakumar Yadav|       239|39.833333333333336|\n",
      "|Jos Buttler(c)â€|       225|              37.5|\n",
      "|  Kusal Mendisâ€|       223|            27.875|\n",
      "|   Sikandar Raza|       219|            27.375|\n",
      "| Pathum Nissanka|       214|30.571428571428573|\n",
      "|      Alex Hales|       212|35.333333333333336|\n",
      "| Lorcan Tuckerâ€|       204|29.142857142857142|\n",
      "|  Glenn Phillips|       201|              40.2|\n",
      "+----------------+----------+------------------+\n",
      "only showing top 10 rows\n",
      "\n"
     ]
    }
   ],
   "source": [
    "\n",
    "\n",
    "# Step: Group by batsman and aggregate\n",
    "total_runs = df.groupBy(\"batsmanName\").agg(\n",
    "    sum(\"runs\").alias(\"total_runs\"),\n",
    "    avg(\"runs\").alias(\"average_runs\")\n",
    ").orderBy(desc(\"total_runs\"))\n",
    "\n",
    "# Show top 10 run scorers\n",
    "total_runs.show(10)\n"
   ]
  },
  {
   "cell_type": "code",
   "execution_count": 60,
   "id": "33f65400-00d2-4dee-aa0b-f15c5089ff3f",
   "metadata": {},
   "outputs": [
    {
     "name": "stdout",
     "output_type": "stream",
     "text": [
      "+----------------+-----+\n",
      "|     batsmanName|total|\n",
      "+----------------+-----+\n",
      "|     Virat Kohli|  296|\n",
      "|      Max O'Dowd|  242|\n",
      "|Suryakumar Yadav|  239|\n",
      "|Jos Buttler(c)â€|  225|\n",
      "|  Kusal Mendisâ€|  223|\n",
      "+----------------+-----+\n",
      "\n"
     ]
    }
   ],
   "source": [
    "# Register your DataFrame as a SQL view\n",
    "df.createOrReplaceTempView(\"batting_summary\")\n",
    "\n",
    "# Corrected SQL query\n",
    "spark.sql(\"\"\"\n",
    "    SELECT batsmanName, SUM(runs) as total\n",
    "    FROM batting_summary\n",
    "    GROUP BY batsmanName\n",
    "    ORDER BY total DESC\n",
    "    LIMIT 5\n",
    "\"\"\").show()\n"
   ]
  },
  {
   "cell_type": "code",
   "execution_count": 68,
   "id": "dd2eff72-3d30-4280-be49-af3384b06144",
   "metadata": {},
   "outputs": [
    {
     "name": "stdout",
     "output_type": "stream",
     "text": [
      "+----------------+----------+------------------+\n",
      "|     batsmanName|total_runs|      average_runs|\n",
      "+----------------+----------+------------------+\n",
      "|     Virat Kohli|       296|49.333333333333336|\n",
      "|      Max O'Dowd|       242|             30.25|\n",
      "|Suryakumar Yadav|       239|39.833333333333336|\n",
      "|Jos Buttler(c)â€|       225|              37.5|\n",
      "|  Kusal Mendisâ€|       223|            27.875|\n",
      "|   Sikandar Raza|       219|            27.375|\n",
      "| Pathum Nissanka|       214|30.571428571428573|\n",
      "|      Alex Hales|       212|35.333333333333336|\n",
      "| Lorcan Tuckerâ€|       204|29.142857142857142|\n",
      "|  Glenn Phillips|       201|              40.2|\n",
      "+----------------+----------+------------------+\n",
      "only showing top 10 rows\n",
      "\n"
     ]
    }
   ],
   "source": [
    "from pyspark.sql.functions import sum, desc\n",
    "\n",
    "top_batsmen = df.groupBy(\"batsmanName\").agg(\n",
    "    sum(\"runs\").alias(\"total_runs\")\n",
    ").orderBy(desc(\"total_runs\")).limit(10)\n",
    "\n",
    "top_batsmen_pd = top_batsmen.toPandas()\n",
    "total_runs.show(10)\n"
   ]
  },
  {
   "cell_type": "code",
   "execution_count": 71,
   "id": "d47f68d9-33cb-47ba-9745-06d7074cd381",
   "metadata": {},
   "outputs": [],
   "source": [
    "pos_runs = df.groupBy(\"battingPos\").agg(\n",
    "    sum(\"runs\").alias(\"total_runs\")\n",
    ").orderBy(\"battingPos\")\n",
    "\n",
    "pos_runs_pd = pos_runs.toPandas()\n",
    "\n"
   ]
  },
  {
   "cell_type": "code",
   "execution_count": null,
   "id": "3b3ee3bb-86e7-461f-8e93-f5f2003dcdd2",
   "metadata": {},
   "outputs": [],
   "source": [
    "\n",
    "                                            TOP 10 BATSMEN\n"
   ]
  },
  {
   "cell_type": "code",
   "execution_count": 75,
   "id": "f132c14d-8941-464a-a704-085eb180cdbf",
   "metadata": {},
   "outputs": [
    {
     "data": {
      "image/png": "[encoded data removed]",
      "text/plain": [
       "<Figure size 1000x600 with 1 Axes>"
      ]
     },
     "metadata": {},
     "output_type": "display_data"
    }
   ],
   "source": [
    "\n",
    "import matplotlib.pyplot as plt\n",
    "\n",
    "# Sort to match bars from top to bottom\n",
    "top_batsmen_pd_sorted = top_batsmen_pd.sort_values(\"total_runs\")\n",
    "\n",
    "plt.figure(figsize=(10, 6))\n",
    "plt.barh(top_batsmen_pd_sorted[\"batsmanName\"], top_batsmen_pd_sorted[\"total_runs\"], color=\"skyblue\")\n",
    "plt.title(\"Top 10 Batsmen by Total Runs\")\n",
    "plt.xlabel(\"Total Runs\")\n",
    "plt.ylabel(\"Batsman\")\n",
    "plt.tight_layout()\n",
    "plt.show()\n"
   ]
  },
  {
   "cell_type": "code",
   "execution_count": null,
   "id": "b872dafd-0426-4728-8be7-f5a301f2f060",
   "metadata": {},
   "outputs": [],
   "source": [
    "\n",
    "                                                BOWLING SUMMARY\n"
   ]
  },
  {
   "cell_type": "code",
   "execution_count": 83,
   "id": "6577b811-1164-4c05-a055-d1f1378f483f",
   "metadata": {},
   "outputs": [
    {
     "name": "stdout",
     "output_type": "stream",
     "text": [
      "root\n",
      " |-- match: string (nullable = true)\n",
      " |-- bowlingTeam: string (nullable = true)\n",
      " |-- bowlerName: string (nullable = true)\n",
      " |-- overs: double (nullable = true)\n",
      " |-- maiden: integer (nullable = true)\n",
      " |-- runs: integer (nullable = true)\n",
      " |-- wickets: integer (nullable = true)\n",
      " |-- economy: double (nullable = true)\n",
      " |-- 0s: integer (nullable = true)\n",
      " |-- 4s: integer (nullable = true)\n",
      " |-- 6s: integer (nullable = true)\n",
      " |-- wides: integer (nullable = true)\n",
      " |-- noBalls: integer (nullable = true)\n",
      " |-- match_id: string (nullable = true)\n",
      "\n"
     ]
    }
   ],
   "source": [
    "\n",
    "\n",
    "# Start Spark Session\n",
    "spark = SparkSession.builder.appName(\"TopBowlersAnalysis\").getOrCreate()\n",
    "\n",
    "# Load bowling summary CSV\n",
    "df_bowling = spark.read.option(\"header\", True).option(\"inferSchema\", True).csv(\"t20_csv_files/fact_bowling_summary.csV\")\n",
    "\n",
    "# Print schema to confirm\n",
    "df_bowling.printSchema()\n",
    "\n",
    "\n",
    "\n"
   ]
  },
  {
   "cell_type": "code",
   "execution_count": 84,
   "id": "55429e8a-5592-44a8-b82a-0589eaf1e1c8",
   "metadata": {},
   "outputs": [
    {
     "name": "stdout",
     "output_type": "stream",
     "text": [
      "+--------------------+-------------+\n",
      "|          bowlerName|total_wickets|\n",
      "+--------------------+-------------+\n",
      "|Wanindu Hasaranga...|           15|\n",
      "|        Bas de Leede|           13|\n",
      "|          Sam Curran|           13|\n",
      "| Blessing Muzarabani|           12|\n",
      "|         Josh Little|           11|\n",
      "|   Paul van Meekeren|           11|\n",
      "| Shaheen Shah Afridi|           11|\n",
      "|         Shadab Khan|           11|\n",
      "|       Anrich Nortje|           11|\n",
      "|       Sikandar Raza|           10|\n",
      "+--------------------+-------------+\n",
      "\n"
     ]
    }
   ],
   "source": [
    "# Group by bowlerName and calculate total wickets\n",
    "top_bowlers = df_bowling.groupBy(\"bowlerName\") \\\n",
    "    .agg(sum(\"wickets\").alias(\"total_wickets\")) \\\n",
    "    .orderBy(desc(\"total_wickets\")) \\\n",
    "    .limit(10)\n",
    "\n",
    "# Show result\n",
    "top_bowlers.show()"
   ]
  },
  {
   "cell_type": "code",
   "execution_count": null,
   "id": "923e55ff-5a9e-40d3-bc74-d5e85a9419f6",
   "metadata": {},
   "outputs": [],
   "source": [
    "\n",
    "# Convert to Pandas if needed for visualization\n",
    "top_bowlers_pd = top_bowlers.toPandas()"
   ]
  },
  {
   "cell_type": "code",
   "execution_count": 85,
   "id": "dc0531cc-a429-40a3-bffb-00f437d112f7",
   "metadata": {},
   "outputs": [
    {
     "ename": "KeyError",
     "evalue": "'economy'",
     "output_type": "error",
     "traceback": [
      "\u001b[31m---------------------------------------------------------------------------\u001b[39m",
      "\u001b[31mKeyError\u001b[39m                                  Traceback (most recent call last)",
      "\u001b[36mFile \u001b[39m\u001b[32m~\\AppData\\Local\\Programs\\Python\\Python313\\Lib\\site-packages\\pandas\\core\\indexes\\base.py:3805\u001b[39m, in \u001b[36mIndex.get_loc\u001b[39m\u001b[34m(self, key)\u001b[39m\n\u001b[32m   3804\u001b[39m \u001b[38;5;28;01mtry\u001b[39;00m:\n\u001b[32m-> \u001b[39m\u001b[32m3805\u001b[39m     \u001b[38;5;28;01mreturn\u001b[39;00m \u001b[38;5;28;43mself\u001b[39;49m\u001b[43m.\u001b[49m\u001b[43m_engine\u001b[49m\u001b[43m.\u001b[49m\u001b[43mget_loc\u001b[49m\u001b[43m(\u001b[49m\u001b[43mcasted_key\u001b[49m\u001b[43m)\u001b[49m\n\u001b[32m   3806\u001b[39m \u001b[38;5;28;01mexcept\u001b[39;00m \u001b[38;5;167;01mKeyError\u001b[39;00m \u001b[38;5;28;01mas\u001b[39;00m err:\n",
      "\u001b[36mFile \u001b[39m\u001b[32mindex.pyx:167\u001b[39m, in \u001b[36mpandas._libs.index.IndexEngine.get_loc\u001b[39m\u001b[34m()\u001b[39m\n",
      "\u001b[36mFile \u001b[39m\u001b[32mindex.pyx:196\u001b[39m, in \u001b[36mpandas._libs.index.IndexEngine.get_loc\u001b[39m\u001b[34m()\u001b[39m\n",
      "\u001b[36mFile \u001b[39m\u001b[32mpandas\\\\_libs\\\\hashtable_class_helper.pxi:7081\u001b[39m, in \u001b[36mpandas._libs.hashtable.PyObjectHashTable.get_item\u001b[39m\u001b[34m()\u001b[39m\n",
      "\u001b[36mFile \u001b[39m\u001b[32mpandas\\\\_libs\\\\hashtable_class_helper.pxi:7089\u001b[39m, in \u001b[36mpandas._libs.hashtable.PyObjectHashTable.get_item\u001b[39m\u001b[34m()\u001b[39m\n",
      "\u001b[31mKeyError\u001b[39m: 'economy'",
      "\nThe above exception was the direct cause of the following exception:\n",
      "\u001b[31mKeyError\u001b[39m                                  Traceback (most recent call last)",
      "\u001b[36mCell\u001b[39m\u001b[36m \u001b[39m\u001b[32mIn[85]\u001b[39m\u001b[32m, line 2\u001b[39m\n\u001b[32m      1\u001b[39m plt.figure(figsize=(\u001b[32m10\u001b[39m,\u001b[32m6\u001b[39m))\n\u001b[32m----> \u001b[39m\u001b[32m2\u001b[39m plt.scatter(\u001b[43mtop_bowlers_pd\u001b[49m\u001b[43m[\u001b[49m\u001b[33;43m\"\u001b[39;49m\u001b[33;43meconomy\u001b[39;49m\u001b[33;43m\"\u001b[39;49m\u001b[43m]\u001b[49m, top_bowlers_pd[\u001b[33m\"\u001b[39m\u001b[33mtotal_wickets\u001b[39m\u001b[33m\"\u001b[39m], color=\u001b[33m\"\u001b[39m\u001b[33mgreen\u001b[39m\u001b[33m\"\u001b[39m, s=\u001b[32m100\u001b[39m, alpha=\u001b[32m0.6\u001b[39m)\n\u001b[32m      3\u001b[39m \u001b[38;5;28;01mfor\u001b[39;00m i \u001b[38;5;129;01min\u001b[39;00m \u001b[38;5;28mrange\u001b[39m(\u001b[38;5;28mlen\u001b[39m(top_bowlers_pd)):\n\u001b[32m      4\u001b[39m     plt.text(top_bowlers_pd[\u001b[33m\"\u001b[39m\u001b[33meconomy\u001b[39m\u001b[33m\"\u001b[39m][i]+\u001b[32m0.02\u001b[39m, top_bowlers_pd[\u001b[33m\"\u001b[39m\u001b[33mtotal_wickets\u001b[39m\u001b[33m\"\u001b[39m][i], \n\u001b[32m      5\u001b[39m              top_bowlers_pd[\u001b[33m\"\u001b[39m\u001b[33mbowlerName\u001b[39m\u001b[33m\"\u001b[39m][i], fontsize=\u001b[32m9\u001b[39m)\n",
      "\u001b[36mFile \u001b[39m\u001b[32m~\\AppData\\Local\\Programs\\Python\\Python313\\Lib\\site-packages\\pandas\\core\\frame.py:4102\u001b[39m, in \u001b[36mDataFrame.__getitem__\u001b[39m\u001b[34m(self, key)\u001b[39m\n\u001b[32m   4100\u001b[39m \u001b[38;5;28;01mif\u001b[39;00m \u001b[38;5;28mself\u001b[39m.columns.nlevels > \u001b[32m1\u001b[39m:\n\u001b[32m   4101\u001b[39m     \u001b[38;5;28;01mreturn\u001b[39;00m \u001b[38;5;28mself\u001b[39m._getitem_multilevel(key)\n\u001b[32m-> \u001b[39m\u001b[32m4102\u001b[39m indexer = \u001b[38;5;28;43mself\u001b[39;49m\u001b[43m.\u001b[49m\u001b[43mcolumns\u001b[49m\u001b[43m.\u001b[49m\u001b[43mget_loc\u001b[49m\u001b[43m(\u001b[49m\u001b[43mkey\u001b[49m\u001b[43m)\u001b[49m\n\u001b[32m   4103\u001b[39m \u001b[38;5;28;01mif\u001b[39;00m is_integer(indexer):\n\u001b[32m   4104\u001b[39m     indexer = [indexer]\n",
      "\u001b[36mFile \u001b[39m\u001b[32m~\\AppData\\Local\\Programs\\Python\\Python313\\Lib\\site-packages\\pandas\\core\\indexes\\base.py:3812\u001b[39m, in \u001b[36mIndex.get_loc\u001b[39m\u001b[34m(self, key)\u001b[39m\n\u001b[32m   3807\u001b[39m     \u001b[38;5;28;01mif\u001b[39;00m \u001b[38;5;28misinstance\u001b[39m(casted_key, \u001b[38;5;28mslice\u001b[39m) \u001b[38;5;129;01mor\u001b[39;00m (\n\u001b[32m   3808\u001b[39m         \u001b[38;5;28misinstance\u001b[39m(casted_key, abc.Iterable)\n\u001b[32m   3809\u001b[39m         \u001b[38;5;129;01mand\u001b[39;00m \u001b[38;5;28many\u001b[39m(\u001b[38;5;28misinstance\u001b[39m(x, \u001b[38;5;28mslice\u001b[39m) \u001b[38;5;28;01mfor\u001b[39;00m x \u001b[38;5;129;01min\u001b[39;00m casted_key)\n\u001b[32m   3810\u001b[39m     ):\n\u001b[32m   3811\u001b[39m         \u001b[38;5;28;01mraise\u001b[39;00m InvalidIndexError(key)\n\u001b[32m-> \u001b[39m\u001b[32m3812\u001b[39m     \u001b[38;5;28;01mraise\u001b[39;00m \u001b[38;5;167;01mKeyError\u001b[39;00m(key) \u001b[38;5;28;01mfrom\u001b[39;00m\u001b[38;5;250m \u001b[39m\u001b[34;01merr\u001b[39;00m\n\u001b[32m   3813\u001b[39m \u001b[38;5;28;01mexcept\u001b[39;00m \u001b[38;5;167;01mTypeError\u001b[39;00m:\n\u001b[32m   3814\u001b[39m     \u001b[38;5;66;03m# If we have a listlike key, _check_indexing_error will raise\u001b[39;00m\n\u001b[32m   3815\u001b[39m     \u001b[38;5;66;03m#  InvalidIndexError. Otherwise we fall through and re-raise\u001b[39;00m\n\u001b[32m   3816\u001b[39m     \u001b[38;5;66;03m#  the TypeError.\u001b[39;00m\n\u001b[32m   3817\u001b[39m     \u001b[38;5;28mself\u001b[39m._check_indexing_error(key)\n",
      "\u001b[31mKeyError\u001b[39m: 'economy'"
     ]
    },
    {
     "data": {
      "text/plain": [
       "<Figure size 1000x600 with 0 Axes>"
      ]
     },
     "metadata": {},
     "output_type": "display_data"
    }
   ],
   "source": [
    "plt.figure(figsize=(10,6))\n",
    "plt.scatter(top_bowlers_pd[\"economy\"], top_bowlers_pd[\"total_wickets\"], color=\"green\", s=100, alpha=0.6)\n",
    "for i in range(len(top_bowlers_pd)):\n",
    "    plt.text(top_bowlers_pd[\"economy\"][i]+0.02, top_bowlers_pd[\"total_wickets\"][i], \n",
    "             top_bowlers_pd[\"bowlerName\"][i], fontsize=9)\n",
    "plt.xlabel(\"Economy Rate\")\n",
    "plt.ylabel(\"Total Wickets\")\n",
    "plt.title(\"Top Bowlers: Economy vs Wickets\")\n",
    "plt.grid(True, linestyle='--', alpha=0.5)\n",
    "plt.tight_layout()\n",
    "plt.show()\n"
   ]
  },
  {
   "cell_type": "code",
   "execution_count": null,
   "id": "4167d0b7-5ad0-40d1-93e8-928f8c6af3c3",
   "metadata": {},
   "outputs": [],
   "source": []
  }
 ],
 "metadata": {
  "kernelspec": {
   "display_name": "Python 3 (ipykernel)",
   "language": "python",
   "name": "python3"
  },
  "language_info": {
   "codemirror_mode": {
    "name": "ipython",
    "version": 3
   },
   "file_extension": ".py",
   "mimetype": "text/x-python",
   "name": "python",
   "nbconvert_exporter": "python",
   "pygments_lexer": "ipython3",
   "version": "3.13.2"
  }
 },
 "nbformat": 4,
 "nbformat_minor": 5
}
